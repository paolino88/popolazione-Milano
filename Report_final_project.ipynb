{
 "cells": [
  {
   "cell_type": "markdown",
   "metadata": {},
   "source": [
    "# Report Final Project"
   ]
  },
  {
   "cell_type": "markdown",
   "metadata": {},
   "source": [
    "## Introduction"
   ]
  },
  {
   "cell_type": "markdown",
   "metadata": {},
   "source": [
    "In this project, I want to cluster the neighborhood of Milan based on types of venues and the population. This project can be interesting for the people that want to open a new business activity and want to know what are the population of the area and if there are competitors."
   ]
  },
  {
   "cell_type": "markdown",
   "metadata": {},
   "source": [
    "## Data"
   ]
  },
  {
   "cell_type": "markdown",
   "metadata": {},
   "source": [
    "The data that I used are two:\n",
    "* __nilzone.geojson__ = the geojson files that contains the NIL(Neighborhood) of Milan and their coordinates;\n",
    "* __ds139_popolazione_famiglie_tipologia_quartiere_2007-2015.csv__ = a csv file that contains the types of families in every neighborhood, the citizenship, and the number of components.\n",
    "  \n",
    "I've taken this two datasets from the Milan open data portal https://dati.comune.milano.it.  \n",
    "In the first file, the Neighborhoods are abbreviated with the name NIL.\n",
    "The features in the second file are:\n",
    "1. __NIL__ = Neighborhood;\n",
    "2. __Classe_eta_capofamiglia__ = the age class of householder\n",
    "3. __Genere_capofamiglia__ = gender of householder (M or F)\n",
    "4. __Numero_componenti__ = number of components of the family\n",
    "5. __Tipologia_familiare__ = type of family (Single, Married, etc.)\n",
    "6. __CIttadinanza_famiglie__ = citizenship of the family (Italy, Egypt, etc.)\n",
    "7. __famiglie_2007-2015__ = number of families for years from 2007 to 2015"
   ]
  },
  {
   "cell_type": "markdown",
   "metadata": {},
   "source": [
    "## Methodology"
   ]
  },
  {
   "cell_type": "markdown",
   "metadata": {},
   "source": [
    "Because I want to find some features that are significant to cluster the neighborhood, I use the dataset for the types of families in Milan's neighborhoods to see the percentage of every citizenship in every area. With this analysis, I understand what the weight of every nationality is and what are the similar neighborhood; in this case, the Italian families are on average the 80% of families in every zone for every category of age.  \n",
    "Done that, I create two new features, one for the number of people that live in the neighborhood and one for the density (people for squared kilometers); I normalize this two features to obtain a value from 0.0 to 1.0.\n",
    "  \n",
    "Done that, I create two new features, one for the number of people that live in the neighborhood and one for the density (people for squared kilometers); I normalize this two features to obtain a value from 0.0 to 1.0."
   ]
  },
  {
   "cell_type": "markdown",
   "metadata": {},
   "source": [
    "## Results"
   ]
  },
  {
   "cell_type": "markdown",
   "metadata": {},
   "source": [
    "Whit this clustering we can notice in the map that the similar neighborhoods are near and are concentric. They reflect the density of population and the number of people that live in every zone."
   ]
  },
  {
   "cell_type": "markdown",
   "metadata": {},
   "source": [
    "## Discussions"
   ]
  },
  {
   "cell_type": "markdown",
   "metadata": {},
   "source": [
    "I've noticed that the family dataset is updated in 2015, so it would be nice to have a dataset that can be the picture of the reality right now. "
   ]
  },
  {
   "cell_type": "markdown",
   "metadata": {},
   "source": [
    "## Conclusions"
   ]
  },
  {
   "cell_type": "markdown",
   "metadata": {},
   "source": [
    "This project can be the iceberg's top because with other datasets can be integrated for better clustering of the cities. It can be used to decide what are the best neighborhood where to open an activity.  \n",
    "The analysis can go far with the age of the people that live in every zone, the public transport and the cost of spaces for the activities."
   ]
  }
 ],
 "metadata": {
  "kernelspec": {
   "display_name": "Python 3",
   "language": "python",
   "name": "python3"
  },
  "language_info": {
   "codemirror_mode": {
    "name": "ipython",
    "version": 3
   },
   "file_extension": ".py",
   "mimetype": "text/x-python",
   "name": "python",
   "nbconvert_exporter": "python",
   "pygments_lexer": "ipython3",
   "version": "3.6.4"
  }
 },
 "nbformat": 4,
 "nbformat_minor": 2
}
